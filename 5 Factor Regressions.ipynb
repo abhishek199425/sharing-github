{
 "cells": [
  {
   "cell_type": "code",
   "execution_count": 72,
   "metadata": {},
   "outputs": [],
   "source": [
    "import pandas as pd\n",
    "import pandas_datareader as web\n",
    "import statsmodels.api as sm\n",
    "import urllib.request\n",
    "import zipfile"
   ]
  },
  {
   "cell_type": "code",
   "execution_count": 193,
   "metadata": {},
   "outputs": [],
   "source": [
    "def get_fama_french():\n",
    "    ff_url = \"https://mba.tuck.dartmouth.edu/pages/faculty/ken.french/ftp/F-F_Research_Data_5_Factors_2x3_CSV.zip\"\n",
    "    urllib.request.urlretrieve(ff_url,'fama_french.zip')\n",
    "    zip_file = zipfile.ZipFile('fama_french.zip', 'r')\n",
    "    zip_file.extractall()\n",
    "    zip_file.close()\n",
    "    ff_factors = pd.read_csv('F-F_Research_Data_5_Factors_2x3.csv', skiprows = 3, index_col = 0)\n",
    "    ff_row = ff_factors.isnull().any(1).nonzero()[0][0]\n",
    "    ff_factors = pd.read_csv('F-F_Research_Data_5_Factors_2x3.csv', skiprows = 3, nrows = ff_row, index_col = 0)\n",
    "    ff_factors.index = pd.to_datetime(ff_factors.index, format= '%Y%m')\n",
    "    ff_factors.index = ff_factors.index + pd.offsets.MonthEnd()\n",
    "    ff_factors = ff_factors.apply(lambda x: x/ 100)\n",
    "    return ff_factors"
   ]
  },
  {
   "cell_type": "code",
   "execution_count": 194,
   "metadata": {},
   "outputs": [
    {
     "name": "stdout",
     "output_type": "stream",
     "text": [
      "            Mkt-RF     SMB     HML     RMW     CMA      RF\n",
      "2019-11-30  0.0387  0.0050 -0.0186 -0.0150 -0.0129  0.0012\n",
      "2019-12-31  0.0277  0.0096  0.0183  0.0021  0.0131  0.0014\n",
      "2020-01-31 -0.0011 -0.0440 -0.0627 -0.0123 -0.0234  0.0013\n",
      "2020-02-29 -0.0813 -0.0007 -0.0401 -0.0164 -0.0253  0.0012\n",
      "2020-03-31 -0.1339 -0.0843 -0.1411 -0.0132  0.0126  0.0012\n"
     ]
    },
    {
     "name": "stderr",
     "output_type": "stream",
     "text": [
      "/opt/anaconda3/lib/python3.7/site-packages/ipykernel_launcher.py:8: FutureWarning: Series.nonzero() is deprecated and will be removed in a future version.Use Series.to_numpy().nonzero() instead\n",
      "  \n"
     ]
    }
   ],
   "source": [
    "ff_data = get_fama_french()\n",
    "print(ff_data.tail())"
   ]
  },
  {
   "cell_type": "code",
   "execution_count": 75,
   "metadata": {},
   "outputs": [],
   "source": [
    "ff_last = ff_data.index[ff_data.shape[0] - 1].date()\n",
    "def get_price_data(ticker, start, end):\n",
    "    price = web.get_data_yahoo(ticker, start, end)\n",
    "    price = price['Adj Close'] # keep only the Adj Price col\n",
    "    return price"
   ]
  },
  {
   "cell_type": "code",
   "execution_count": 93,
   "metadata": {},
   "outputs": [
    {
     "name": "stdout",
     "output_type": "stream",
     "text": [
      "Date\n",
      "2020-03-25    11.37\n",
      "2020-03-26    11.95\n",
      "2020-03-27    11.53\n",
      "2020-03-30    11.91\n",
      "2020-03-31    11.76\n",
      "Name: Adj Close, dtype: float64\n"
     ]
    }
   ],
   "source": [
    "price_data = get_price_data(\"FCNTX\", \"2000-01-01\", \"2020-03-31\")\n",
    "price_data = price_data.loc[:ff_last]\n",
    "print(price_data.tail())"
   ]
  },
  {
   "cell_type": "code",
   "execution_count": 94,
   "metadata": {},
   "outputs": [
    {
     "name": "stdout",
     "output_type": "stream",
     "text": [
      "            portfolio\n",
      "Date                 \n",
      "2019-11-30   0.043117\n",
      "2019-12-31   0.028764\n",
      "2020-01-31   0.021152\n",
      "2020-02-29  -0.059435\n",
      "2020-03-31  -0.100917\n"
     ]
    }
   ],
   "source": [
    "def get_return_data(price_data, period = \"M\"):\n",
    "    price = price_data.resample(period).last()\n",
    "    ret_data = price.pct_change()[1:]\n",
    "    ret_data = pd.DataFrame(ret_data)\n",
    "    ret_data.columns = ['portfolio']\n",
    "    return ret_data\n",
    "ret_data = get_return_data(price_data, \"M\")\n",
    "print(ret_data.tail())"
   ]
  },
  {
   "cell_type": "code",
   "execution_count": 95,
   "metadata": {},
   "outputs": [
    {
     "name": "stdout",
     "output_type": "stream",
     "text": [
      "            portfolio  mkt_excess     SMB     HML     RMW     CMA      RF  \\\n",
      "2019-11-30   0.043117      0.0387  0.0050 -0.0186 -0.0150 -0.0129  0.0012   \n",
      "2019-12-31   0.028764      0.0277  0.0096  0.0183  0.0021  0.0131  0.0014   \n",
      "2020-01-31   0.021152     -0.0011 -0.0440 -0.0627 -0.0123 -0.0234  0.0013   \n",
      "2020-02-29  -0.059435     -0.0813 -0.0007 -0.0401 -0.0164 -0.0253  0.0012   \n",
      "2020-03-31  -0.100917     -0.1339 -0.0843 -0.1411 -0.0132  0.0126  0.0012   \n",
      "\n",
      "            port_excess  \n",
      "2019-11-30     0.041917  \n",
      "2019-12-31     0.027364  \n",
      "2020-01-31     0.019852  \n",
      "2020-02-29    -0.060635  \n",
      "2020-03-31    -0.102117  \n"
     ]
    }
   ],
   "source": [
    "all_data = pd.merge(pd.DataFrame(ret_data),ff_data, how = 'inner', left_index= True, right_index= True)\n",
    "all_data.rename(columns={\"Mkt-RF\":\"mkt_excess\"}, inplace=True)\n",
    "all_data['port_excess'] = all_data['portfolio'] - all_data['RF']\n",
    "print(all_data.tail())"
   ]
  },
  {
   "cell_type": "code",
   "execution_count": 96,
   "metadata": {},
   "outputs": [
    {
     "name": "stdout",
     "output_type": "stream",
     "text": [
      "Intercept     0.001405\n",
      "mkt_excess    0.848544\n",
      "SMB           0.133896\n",
      "HML          -0.146161\n",
      "RMW           0.270631\n",
      "CMA          -0.070373\n",
      "dtype: float64\n"
     ]
    }
   ],
   "source": [
    "model = sm.formula.ols(formula=\"port_excess~mkt_excess+ SMB+HML+RMW+CMA\",data=all_data).fit()\n",
    "\n",
    "print(model.params)"
   ]
  },
  {
   "cell_type": "code",
   "execution_count": 97,
   "metadata": {},
   "outputs": [
    {
     "name": "stdout",
     "output_type": "stream",
     "text": [
      "                            OLS Regression Results                            \n",
      "==============================================================================\n",
      "Dep. Variable:            port_excess   R-squared:                       0.850\n",
      "Model:                            OLS   Adj. R-squared:                  0.847\n",
      "Method:                 Least Squares   F-statistic:                     268.3\n",
      "Date:                Wed, 13 May 2020   Prob (F-statistic):           3.37e-95\n",
      "Time:                        04:11:35   Log-Likelihood:                 671.60\n",
      "No. Observations:                 242   AIC:                            -1331.\n",
      "Df Residuals:                     236   BIC:                            -1310.\n",
      "Df Model:                           5                                         \n",
      "Covariance Type:            nonrobust                                         \n",
      "==============================================================================\n",
      "                 coef    std err          t      P>|t|      [0.025      0.975]\n",
      "------------------------------------------------------------------------------\n",
      "Intercept      0.0014      0.001      1.350      0.178      -0.001       0.003\n",
      "mkt_excess     0.8485      0.027     31.052      0.000       0.795       0.902\n",
      "SMB            0.1339      0.038      3.552      0.000       0.060       0.208\n",
      "HML           -0.1462      0.043     -3.421      0.001      -0.230      -0.062\n",
      "RMW            0.2706      0.050      5.416      0.000       0.172       0.369\n",
      "CMA           -0.0704      0.063     -1.109      0.269      -0.195       0.055\n",
      "==============================================================================\n",
      "Omnibus:                       36.135   Durbin-Watson:                   2.134\n",
      "Prob(Omnibus):                  0.000   Jarque-Bera (JB):              145.635\n",
      "Skew:                          -0.495   Prob(JB):                     2.38e-32\n",
      "Kurtosis:                       6.669   Cond. No.                         73.2\n",
      "==============================================================================\n",
      "\n",
      "Warnings:\n",
      "[1] Standard Errors assume that the covariance matrix of the errors is correctly specified.\n"
     ]
    }
   ],
   "source": [
    "print(model.summary())"
   ]
  },
  {
   "cell_type": "code",
   "execution_count": 115,
   "metadata": {},
   "outputs": [],
   "source": [
    "def run_reg_model(ticker,start,end):\n",
    "    ff_data = get_fama_french()\n",
    "    ff_last = ff_data.index[ff_data.shape[0] - 1].date()\n",
    "    price_data = get_price_data(ticker,start,end)\n",
    "    price_data = price_data.loc[:ff_last]\n",
    "    ret_data = get_return_data(price_data, \"M\")\n",
    "    all_data = pd.merge(pd.DataFrame(ret_data),ff_data, how = 'inner', left_index= True, right_index= True)\n",
    "    all_data.rename(columns={\"Mkt-RF\":\"mkt_excess\"}, inplace=True)\n",
    "    all_data['port_excess'] = all_data['portfolio'] - all_data['RF']\n",
    "    model = sm.formula.ols(formula = \"port_excess ~ mkt_excess + SMB+HML+RMW+CMA\", data = all_data).fit()\n",
    "    return model.summary()"
   ]
  },
  {
   "cell_type": "code",
   "execution_count": 116,
   "metadata": {},
   "outputs": [
    {
     "name": "stderr",
     "output_type": "stream",
     "text": [
      "/opt/anaconda3/lib/python3.7/site-packages/ipykernel_launcher.py:8: FutureWarning: Series.nonzero() is deprecated and will be removed in a future version.Use Series.to_numpy().nonzero() instead\n",
      "  \n"
     ]
    },
    {
     "name": "stdout",
     "output_type": "stream",
     "text": [
      "                            OLS Regression Results                            \n",
      "==============================================================================\n",
      "Dep. Variable:            port_excess   R-squared:                       0.942\n",
      "Model:                            OLS   Adj. R-squared:                  0.941\n",
      "Method:                 Least Squares   F-statistic:                     771.0\n",
      "Date:                Wed, 13 May 2020   Prob (F-statistic):          5.75e-144\n",
      "Time:                        04:25:05   Log-Likelihood:                 749.01\n",
      "No. Observations:                 242   AIC:                            -1486.\n",
      "Df Residuals:                     236   BIC:                            -1465.\n",
      "Df Model:                           5                                         \n",
      "Covariance Type:            nonrobust                                         \n",
      "==============================================================================\n",
      "                 coef    std err          t      P>|t|      [0.025      0.975]\n",
      "------------------------------------------------------------------------------\n",
      "Intercept      0.0022      0.001      2.868      0.005       0.001       0.004\n",
      "mkt_excess     0.9245      0.020     46.583      0.000       0.885       0.964\n",
      "SMB            0.0569      0.027      2.077      0.039       0.003       0.111\n",
      "HML           -0.0838      0.031     -2.701      0.007      -0.145      -0.023\n",
      "RMW           -0.1383      0.036     -3.812      0.000      -0.210      -0.067\n",
      "CMA           -0.0933      0.046     -2.024      0.044      -0.184      -0.002\n",
      "==============================================================================\n",
      "Omnibus:                       62.081   Durbin-Watson:                   1.786\n",
      "Prob(Omnibus):                  0.000   Jarque-Bera (JB):              268.445\n",
      "Skew:                           0.953   Prob(JB):                     5.10e-59\n",
      "Kurtosis:                       7.795   Cond. No.                         73.2\n",
      "==============================================================================\n",
      "\n",
      "Warnings:\n",
      "[1] Standard Errors assume that the covariance matrix of the errors is correctly specified.\n"
     ]
    }
   ],
   "source": [
    "agthx_model = run_reg_model(\"AGTHX\", start = \"2000-01-01\", end = \"2020-03-31\")\n",
    "print(agthx_model)"
   ]
  },
  {
   "cell_type": "code",
   "execution_count": 119,
   "metadata": {},
   "outputs": [
    {
     "name": "stderr",
     "output_type": "stream",
     "text": [
      "/opt/anaconda3/lib/python3.7/site-packages/ipykernel_launcher.py:8: FutureWarning: Series.nonzero() is deprecated and will be removed in a future version.Use Series.to_numpy().nonzero() instead\n",
      "  \n"
     ]
    },
    {
     "name": "stdout",
     "output_type": "stream",
     "text": [
      "                            OLS Regression Results                            \n",
      "==============================================================================\n",
      "Dep. Variable:            port_excess   R-squared:                       0.760\n",
      "Model:                            OLS   Adj. R-squared:                  0.755\n",
      "Method:                 Least Squares   F-statistic:                     149.8\n",
      "Date:                Wed, 13 May 2020   Prob (F-statistic):           4.03e-71\n",
      "Time:                        05:19:38   Log-Likelihood:                 362.81\n",
      "No. Observations:                 242   AIC:                            -713.6\n",
      "Df Residuals:                     236   BIC:                            -692.7\n",
      "Df Model:                           5                                         \n",
      "Covariance Type:            nonrobust                                         \n",
      "==============================================================================\n",
      "                 coef    std err          t      P>|t|      [0.025      0.975]\n",
      "------------------------------------------------------------------------------\n",
      "Intercept      0.0066      0.004      1.760      0.080      -0.001       0.014\n",
      "mkt_excess     1.4216      0.098     14.523      0.000       1.229       1.614\n",
      "SMB            0.0518      0.135      0.384      0.702      -0.214       0.318\n",
      "HML           -0.8412      0.153     -5.495      0.000      -1.143      -0.540\n",
      "RMW           -1.1866      0.179     -6.629      0.000      -1.539      -0.834\n",
      "CMA           -0.3039      0.227     -1.336      0.183      -0.752       0.144\n",
      "==============================================================================\n",
      "Omnibus:                       21.277   Durbin-Watson:                   2.063\n",
      "Prob(Omnibus):                  0.000   Jarque-Bera (JB):               36.101\n",
      "Skew:                           0.507   Prob(JB):                     1.45e-08\n",
      "Kurtosis:                       4.597   Cond. No.                         73.2\n",
      "==============================================================================\n",
      "\n",
      "Warnings:\n",
      "[1] Standard Errors assume that the covariance matrix of the errors is correctly specified.\n"
     ]
    }
   ],
   "source": [
    "bfocx_model = run_reg_model(\"BFOCX\", start = \"2000-01-01\", end = \"2020-03-31\")\n",
    "print(bfocx_model)"
   ]
  },
  {
   "cell_type": "code",
   "execution_count": 120,
   "metadata": {},
   "outputs": [
    {
     "name": "stderr",
     "output_type": "stream",
     "text": [
      "/opt/anaconda3/lib/python3.7/site-packages/ipykernel_launcher.py:8: FutureWarning: Series.nonzero() is deprecated and will be removed in a future version.Use Series.to_numpy().nonzero() instead\n",
      "  \n"
     ]
    },
    {
     "name": "stdout",
     "output_type": "stream",
     "text": [
      "                            OLS Regression Results                            \n",
      "==============================================================================\n",
      "Dep. Variable:            port_excess   R-squared:                       0.850\n",
      "Model:                            OLS   Adj. R-squared:                  0.847\n",
      "Method:                 Least Squares   F-statistic:                     268.3\n",
      "Date:                Wed, 13 May 2020   Prob (F-statistic):           3.37e-95\n",
      "Time:                        05:20:55   Log-Likelihood:                 671.60\n",
      "No. Observations:                 242   AIC:                            -1331.\n",
      "Df Residuals:                     236   BIC:                            -1310.\n",
      "Df Model:                           5                                         \n",
      "Covariance Type:            nonrobust                                         \n",
      "==============================================================================\n",
      "                 coef    std err          t      P>|t|      [0.025      0.975]\n",
      "------------------------------------------------------------------------------\n",
      "Intercept      0.0014      0.001      1.350      0.178      -0.001       0.003\n",
      "mkt_excess     0.8485      0.027     31.052      0.000       0.795       0.902\n",
      "SMB            0.1339      0.038      3.552      0.000       0.060       0.208\n",
      "HML           -0.1462      0.043     -3.421      0.001      -0.230      -0.062\n",
      "RMW            0.2706      0.050      5.416      0.000       0.172       0.369\n",
      "CMA           -0.0704      0.063     -1.109      0.269      -0.195       0.055\n",
      "==============================================================================\n",
      "Omnibus:                       36.135   Durbin-Watson:                   2.134\n",
      "Prob(Omnibus):                  0.000   Jarque-Bera (JB):              145.635\n",
      "Skew:                          -0.495   Prob(JB):                     2.38e-32\n",
      "Kurtosis:                       6.669   Cond. No.                         73.2\n",
      "==============================================================================\n",
      "\n",
      "Warnings:\n",
      "[1] Standard Errors assume that the covariance matrix of the errors is correctly specified.\n"
     ]
    }
   ],
   "source": [
    "fcntx_model = run_reg_model(\"FCNTX\", start = \"2000-01-01\", end = \"2020-03-31\")\n",
    "print(fcntx_model)"
   ]
  },
  {
   "cell_type": "code",
   "execution_count": 121,
   "metadata": {},
   "outputs": [
    {
     "name": "stderr",
     "output_type": "stream",
     "text": [
      "/opt/anaconda3/lib/python3.7/site-packages/ipykernel_launcher.py:8: FutureWarning: Series.nonzero() is deprecated and will be removed in a future version.Use Series.to_numpy().nonzero() instead\n",
      "  \n"
     ]
    },
    {
     "name": "stdout",
     "output_type": "stream",
     "text": [
      "                            OLS Regression Results                            \n",
      "==============================================================================\n",
      "Dep. Variable:            port_excess   R-squared:                       0.896\n",
      "Model:                            OLS   Adj. R-squared:                  0.893\n",
      "Method:                 Least Squares   F-statistic:                     405.1\n",
      "Date:                Wed, 13 May 2020   Prob (F-statistic):          1.28e-113\n",
      "Time:                        05:22:02   Log-Likelihood:                 590.57\n",
      "No. Observations:                 242   AIC:                            -1169.\n",
      "Df Residuals:                     236   BIC:                            -1148.\n",
      "Df Model:                           5                                         \n",
      "Covariance Type:            nonrobust                                         \n",
      "==============================================================================\n",
      "                 coef    std err          t      P>|t|      [0.025      0.975]\n",
      "------------------------------------------------------------------------------\n",
      "Intercept      0.0031      0.001      2.161      0.032       0.000       0.006\n",
      "mkt_excess     1.1301      0.038     29.589      0.000       1.055       1.205\n",
      "SMB            0.3031      0.053      5.752      0.000       0.199       0.407\n",
      "HML           -0.4459      0.060     -7.466      0.000      -0.564      -0.328\n",
      "RMW           -0.2075      0.070     -2.971      0.003      -0.345      -0.070\n",
      "CMA           -0.3086      0.089     -3.478      0.001      -0.483      -0.134\n",
      "==============================================================================\n",
      "Omnibus:                        9.434   Durbin-Watson:                   2.159\n",
      "Prob(Omnibus):                  0.009   Jarque-Bera (JB):               17.454\n",
      "Skew:                          -0.117   Prob(JB):                     0.000162\n",
      "Kurtosis:                       4.295   Cond. No.                         73.2\n",
      "==============================================================================\n",
      "\n",
      "Warnings:\n",
      "[1] Standard Errors assume that the covariance matrix of the errors is correctly specified.\n"
     ]
    }
   ],
   "source": [
    "focpx_model = run_reg_model(\"FOCPX\", start = \"2000-01-01\", end = \"2020-03-31\")\n",
    "print(focpx_model)"
   ]
  },
  {
   "cell_type": "code",
   "execution_count": 122,
   "metadata": {},
   "outputs": [
    {
     "name": "stderr",
     "output_type": "stream",
     "text": [
      "/opt/anaconda3/lib/python3.7/site-packages/ipykernel_launcher.py:8: FutureWarning: Series.nonzero() is deprecated and will be removed in a future version.Use Series.to_numpy().nonzero() instead\n",
      "  \n"
     ]
    },
    {
     "name": "stdout",
     "output_type": "stream",
     "text": [
      "                            OLS Regression Results                            \n",
      "==============================================================================\n",
      "Dep. Variable:            port_excess   R-squared:                       0.937\n",
      "Model:                            OLS   Adj. R-squared:                  0.936\n",
      "Method:                 Least Squares   F-statistic:                     700.4\n",
      "Date:                Wed, 13 May 2020   Prob (F-statistic):          2.41e-139\n",
      "Time:                        05:22:40   Log-Likelihood:                 675.66\n",
      "No. Observations:                 242   AIC:                            -1339.\n",
      "Df Residuals:                     236   BIC:                            -1318.\n",
      "Df Model:                           5                                         \n",
      "Covariance Type:            nonrobust                                         \n",
      "==============================================================================\n",
      "                 coef    std err          t      P>|t|      [0.025      0.975]\n",
      "------------------------------------------------------------------------------\n",
      "Intercept      0.0048      0.001      4.711      0.000       0.003       0.007\n",
      "mkt_excess     0.9941      0.027     36.994      0.000       0.941       1.047\n",
      "SMB            0.5430      0.037     14.648      0.000       0.470       0.616\n",
      "HML           -0.2380      0.042     -5.665      0.000      -0.321      -0.155\n",
      "RMW           -0.2357      0.049     -4.798      0.000      -0.333      -0.139\n",
      "CMA           -0.1123      0.062     -1.799      0.073      -0.235       0.011\n",
      "==============================================================================\n",
      "Omnibus:                       65.815   Durbin-Watson:                   2.146\n",
      "Prob(Omnibus):                  0.000   Jarque-Bera (JB):              339.197\n",
      "Skew:                           0.957   Prob(JB):                     2.21e-74\n",
      "Kurtosis:                       8.475   Cond. No.                         73.2\n",
      "==============================================================================\n",
      "\n",
      "Warnings:\n",
      "[1] Standard Errors assume that the covariance matrix of the errors is correctly specified.\n"
     ]
    }
   ],
   "source": [
    "prnhx_model = run_reg_model(\"PRNHX\", start = \"2000-01-01\", end = \"2020-03-31\")\n",
    "print(prnhx_model)"
   ]
  },
  {
   "cell_type": "code",
   "execution_count": 123,
   "metadata": {},
   "outputs": [
    {
     "name": "stderr",
     "output_type": "stream",
     "text": [
      "/opt/anaconda3/lib/python3.7/site-packages/ipykernel_launcher.py:8: FutureWarning: Series.nonzero() is deprecated and will be removed in a future version.Use Series.to_numpy().nonzero() instead\n",
      "  \n"
     ]
    },
    {
     "name": "stdout",
     "output_type": "stream",
     "text": [
      "                            OLS Regression Results                            \n",
      "==============================================================================\n",
      "Dep. Variable:            port_excess   R-squared:                       0.934\n",
      "Model:                            OLS   Adj. R-squared:                  0.933\n",
      "Method:                 Least Squares   F-statistic:                     671.7\n",
      "Date:                Wed, 13 May 2020   Prob (F-statistic):          2.43e-137\n",
      "Time:                        05:23:53   Log-Likelihood:                 723.75\n",
      "No. Observations:                 242   AIC:                            -1435.\n",
      "Df Residuals:                     236   BIC:                            -1415.\n",
      "Df Model:                           5                                         \n",
      "Covariance Type:            nonrobust                                         \n",
      "==============================================================================\n",
      "                 coef    std err          t      P>|t|      [0.025      0.975]\n",
      "------------------------------------------------------------------------------\n",
      "Intercept      0.0012      0.001      1.486      0.139      -0.000       0.003\n",
      "mkt_excess     1.0681      0.022     48.488      0.000       1.025       1.112\n",
      "SMB           -0.1035      0.030     -3.406      0.001      -0.163      -0.044\n",
      "HML           -0.1983      0.034     -5.757      0.000      -0.266      -0.130\n",
      "RMW            0.1046      0.040      2.597      0.010       0.025       0.184\n",
      "CMA           -0.0686      0.051     -1.341      0.181      -0.169       0.032\n",
      "==============================================================================\n",
      "Omnibus:                        4.916   Durbin-Watson:                   1.728\n",
      "Prob(Omnibus):                  0.086   Jarque-Bera (JB):                6.751\n",
      "Skew:                          -0.034   Prob(JB):                       0.0342\n",
      "Kurtosis:                       3.815   Cond. No.                         73.2\n",
      "==============================================================================\n",
      "\n",
      "Warnings:\n",
      "[1] Standard Errors assume that the covariance matrix of the errors is correctly specified.\n"
     ]
    }
   ],
   "source": [
    "trbcx_model = run_reg_model(\"TRBCX\", start = \"2000-01-01\", end = \"2020-03-31\")\n",
    "print(trbcx_model)"
   ]
  },
  {
   "cell_type": "code",
   "execution_count": 124,
   "metadata": {},
   "outputs": [
    {
     "name": "stderr",
     "output_type": "stream",
     "text": [
      "/opt/anaconda3/lib/python3.7/site-packages/ipykernel_launcher.py:8: FutureWarning: Series.nonzero() is deprecated and will be removed in a future version.Use Series.to_numpy().nonzero() instead\n",
      "  \n"
     ]
    },
    {
     "name": "stdout",
     "output_type": "stream",
     "text": [
      "                            OLS Regression Results                            \n",
      "==============================================================================\n",
      "Dep. Variable:            port_excess   R-squared:                       0.842\n",
      "Model:                            OLS   Adj. R-squared:                  0.836\n",
      "Method:                 Least Squares   F-statistic:                     167.8\n",
      "Date:                Wed, 13 May 2020   Prob (F-statistic):           2.66e-61\n",
      "Time:                        05:25:18   Log-Likelihood:                 406.43\n",
      "No. Observations:                 164   AIC:                            -800.9\n",
      "Df Residuals:                     158   BIC:                            -782.3\n",
      "Df Model:                           5                                         \n",
      "Covariance Type:            nonrobust                                         \n",
      "==============================================================================\n",
      "                 coef    std err          t      P>|t|      [0.025      0.975]\n",
      "------------------------------------------------------------------------------\n",
      "Intercept      0.0041      0.002      2.418      0.017       0.001       0.008\n",
      "mkt_excess     0.8641      0.044     19.451      0.000       0.776       0.952\n",
      "SMB            0.6209      0.078      7.970      0.000       0.467       0.775\n",
      "HML           -0.0768      0.073     -1.047      0.297      -0.222       0.068\n",
      "RMW           -0.0050      0.116     -0.043      0.966      -0.234       0.225\n",
      "CMA           -0.4503      0.132     -3.408      0.001      -0.711      -0.189\n",
      "==============================================================================\n",
      "Omnibus:                        1.034   Durbin-Watson:                   1.900\n",
      "Prob(Omnibus):                  0.596   Jarque-Bera (JB):                0.839\n",
      "Skew:                           0.174   Prob(JB):                        0.657\n",
      "Kurtosis:                       3.048   Cond. No.                         86.7\n",
      "==============================================================================\n",
      "\n",
      "Warnings:\n",
      "[1] Standard Errors assume that the covariance matrix of the errors is correctly specified.\n"
     ]
    }
   ],
   "source": [
    "pxsgx_model = run_reg_model(\"PXSGX\", start = \"2006-07-01\", end = \"2020-03-31\")\n",
    "print(pxsgx_model)"
   ]
  },
  {
   "cell_type": "code",
   "execution_count": 125,
   "metadata": {},
   "outputs": [
    {
     "name": "stderr",
     "output_type": "stream",
     "text": [
      "/opt/anaconda3/lib/python3.7/site-packages/ipykernel_launcher.py:8: FutureWarning: Series.nonzero() is deprecated and will be removed in a future version.Use Series.to_numpy().nonzero() instead\n",
      "  \n"
     ]
    },
    {
     "name": "stdout",
     "output_type": "stream",
     "text": [
      "                            OLS Regression Results                            \n",
      "==============================================================================\n",
      "Dep. Variable:            port_excess   R-squared:                       0.934\n",
      "Model:                            OLS   Adj. R-squared:                  0.932\n",
      "Method:                 Least Squares   F-statistic:                     579.0\n",
      "Date:                Wed, 13 May 2020   Prob (F-statistic):          8.84e-119\n",
      "Time:                        05:26:44   Log-Likelihood:                 632.82\n",
      "No. Observations:                 211   AIC:                            -1254.\n",
      "Df Residuals:                     205   BIC:                            -1234.\n",
      "Df Model:                           5                                         \n",
      "Covariance Type:            nonrobust                                         \n",
      "==============================================================================\n",
      "                 coef    std err          t      P>|t|      [0.025      0.975]\n",
      "------------------------------------------------------------------------------\n",
      "Intercept      0.0006      0.001      0.660      0.510      -0.001       0.002\n",
      "mkt_excess     1.0905      0.024     45.170      0.000       1.043       1.138\n",
      "SMB           -0.1620      0.040     -4.033      0.000      -0.241      -0.083\n",
      "HML            0.0810      0.038      2.129      0.034       0.006       0.156\n",
      "RMW           -0.0178      0.055     -0.323      0.747      -0.126       0.090\n",
      "CMA           -0.1190      0.066     -1.817      0.071      -0.248       0.010\n",
      "==============================================================================\n",
      "Omnibus:                       26.524   Durbin-Watson:                   2.065\n",
      "Prob(Omnibus):                  0.000   Jarque-Bera (JB):              148.209\n",
      "Skew:                           0.045   Prob(JB):                     6.56e-33\n",
      "Kurtosis:                       7.105   Cond. No.                         87.8\n",
      "==============================================================================\n",
      "\n",
      "Warnings:\n",
      "[1] Standard Errors assume that the covariance matrix of the errors is correctly specified.\n"
     ]
    }
   ],
   "source": [
    "psptx_model = run_reg_model(\"PSPTX\", start = \"2002-08-01\", end = \"2020-03-31\")\n",
    "print(psptx_model)"
   ]
  },
  {
   "cell_type": "code",
   "execution_count": 126,
   "metadata": {
    "scrolled": true
   },
   "outputs": [
    {
     "name": "stderr",
     "output_type": "stream",
     "text": [
      "/opt/anaconda3/lib/python3.7/site-packages/ipykernel_launcher.py:8: FutureWarning: Series.nonzero() is deprecated and will be removed in a future version.Use Series.to_numpy().nonzero() instead\n",
      "  \n"
     ]
    },
    {
     "name": "stdout",
     "output_type": "stream",
     "text": [
      "                            OLS Regression Results                            \n",
      "==============================================================================\n",
      "Dep. Variable:            port_excess   R-squared:                       0.997\n",
      "Model:                            OLS   Adj. R-squared:                  0.997\n",
      "Method:                 Least Squares   F-statistic:                     6386.\n",
      "Date:                Wed, 13 May 2020   Prob (F-statistic):          1.45e-123\n",
      "Time:                        05:27:18   Log-Likelihood:                 504.82\n",
      "No. Observations:                 106   AIC:                            -997.6\n",
      "Df Residuals:                     100   BIC:                            -981.7\n",
      "Df Model:                           5                                         \n",
      "Covariance Type:            nonrobust                                         \n",
      "==============================================================================\n",
      "                 coef    std err          t      P>|t|      [0.025      0.975]\n",
      "------------------------------------------------------------------------------\n",
      "Intercept  -5.431e-05      0.000     -0.247      0.806      -0.000       0.000\n",
      "mkt_excess     0.9920      0.006    156.960      0.000       0.980       1.005\n",
      "SMB           -0.1094      0.011    -10.058      0.000      -0.131      -0.088\n",
      "HML           -0.0069      0.010     -0.667      0.506      -0.027       0.014\n",
      "RMW            0.0451      0.016      2.840      0.005       0.014       0.077\n",
      "CMA            0.0478      0.018      2.692      0.008       0.013       0.083\n",
      "==============================================================================\n",
      "Omnibus:                       20.953   Durbin-Watson:                   1.967\n",
      "Prob(Omnibus):                  0.000   Jarque-Bera (JB):               40.586\n",
      "Skew:                           0.787   Prob(JB):                     1.54e-09\n",
      "Kurtosis:                       5.590   Cond. No.                         92.6\n",
      "==============================================================================\n",
      "\n",
      "Warnings:\n",
      "[1] Standard Errors assume that the covariance matrix of the errors is correctly specified.\n"
     ]
    }
   ],
   "source": [
    "fxaix_model = run_reg_model(\"FXAIX\", start = \"2000-01-01\", end = \"2020-03-31\")\n",
    "print(fxaix_model)"
   ]
  },
  {
   "cell_type": "code",
   "execution_count": 190,
   "metadata": {},
   "outputs": [],
   "source": [
    "def port_fama_french():\n",
    "    ff_port_url = \"https://mba.tuck.dartmouth.edu/pages/faculty/ken.french/ftp/Developed_6_Portfolios_ME_INV_CSV.zip\"\n",
    "    urllib.request.urlretrieve(ff_port_url,'fama_french_port.zip')\n",
    "    zip_file_port = zipfile.ZipFile('fama_french_port.zip', 'r')\n",
    "    zip_file_port.extractall()\n",
    "    zip_file_port.close()\n",
    "    ff_port = pd.read_csv('Developed_6_Portfolios_ME_INV.csv', skiprows = 18, index_col = 0)\n",
    "    ff_port_row = ff_port.isnull().any(1).nonzero()[0][0]\n",
    "    ff_port = pd.read_csv('Developed_6_Portfolios_ME_INV.csv', skiprows = 18, nrows = ff_port_row, index_col = 0)\n",
    "    ff_port.index = pd.to_datetime(ff_port.index, format= '%Y%m')\n",
    "    ff_port.index = ff_port.index + pd.offsets.MonthEnd()\n",
    "    ff_port = ff_port.apply(lambda x: x/ 100)\n",
    "    return ff_port"
   ]
  },
  {
   "cell_type": "code",
   "execution_count": 191,
   "metadata": {},
   "outputs": [
    {
     "name": "stdout",
     "output_type": "stream",
     "text": [
      "            SMALL LoINV  ME1 INV2  SMALL HiINV  BIG LoINV  ME2 INV2  BIG HiINV\n",
      "1990-07-31       0.0190    0.0179       0.0093     0.0223    0.0097     0.0050\n",
      "1990-08-31      -0.1061   -0.1069      -0.1222    -0.0918   -0.1010    -0.0998\n",
      "1990-09-30      -0.0973   -0.0958      -0.1059    -0.0966   -0.1076    -0.1311\n",
      "1990-10-31       0.0280    0.0370       0.0098     0.1116    0.0982     0.1096\n",
      "1990-11-30      -0.0297   -0.0064       0.0011    -0.0387   -0.0212    -0.0271\n"
     ]
    },
    {
     "name": "stderr",
     "output_type": "stream",
     "text": [
      "/opt/anaconda3/lib/python3.7/site-packages/ipykernel_launcher.py:8: FutureWarning: Series.nonzero() is deprecated and will be removed in a future version.Use Series.to_numpy().nonzero() instead\n",
      "  \n"
     ]
    }
   ],
   "source": [
    "ff_port_data = port_fama_french()\n",
    "print(ff_port_data.head())"
   ]
  },
  {
   "cell_type": "code",
   "execution_count": 204,
   "metadata": {},
   "outputs": [
    {
     "name": "stdout",
     "output_type": "stream",
     "text": [
      "            SMALL LoINV  ME1 INV2  SMALL HiINV  BIG LoINV  ME2 INV2  \\\n",
      "2019-11-30       0.0225    0.0248       0.0368     0.0257    0.0270   \n",
      "2019-12-31       0.0478    0.0374       0.0486     0.0366    0.0281   \n",
      "2020-01-31      -0.0405   -0.0401      -0.0315    -0.0196   -0.0090   \n",
      "2020-02-29      -0.1028   -0.0972      -0.0925    -0.0932   -0.0827   \n",
      "2020-03-31      -0.1933   -0.1652      -0.1888    -0.1343   -0.1358   \n",
      "\n",
      "            BIG HiINV  mkt_excess     SMB     HML     RMW     CMA      RF  \\\n",
      "2019-11-30     0.0351      0.0387  0.0050 -0.0186 -0.0150 -0.0129  0.0012   \n",
      "2019-12-31     0.0262      0.0277  0.0096  0.0183  0.0021  0.0131  0.0014   \n",
      "2020-01-31     0.0102     -0.0011 -0.0440 -0.0627 -0.0123 -0.0234  0.0013   \n",
      "2020-02-29    -0.0695     -0.0813 -0.0007 -0.0401 -0.0164 -0.0253  0.0012   \n",
      "2020-03-31    -0.1217     -0.1339 -0.0843 -0.1411 -0.0132  0.0126  0.0012   \n",
      "\n",
      "            port_excess_ff  \n",
      "2019-11-30          0.0236  \n",
      "2019-12-31          0.0360  \n",
      "2020-01-31         -0.0414  \n",
      "2020-02-29         -0.0984  \n",
      "2020-03-31         -0.1664  \n"
     ]
    }
   ],
   "source": [
    "# Merging 6 PORTFOLIO DATA WITH FAMA FRENCH\n",
    "all_data_port = pd.merge(pd.DataFrame(ff_port_data),ff_data, how = 'inner', left_index= True, right_index= True)\n",
    "# Rename the columns\n",
    "all_data_port.rename(columns={\"Mkt-RF\":\"mkt_excess\"}, inplace=True)\n",
    "# Calculate the excess returns\n",
    "\n",
    "all_data_port['port_excess_ff'] = all_data_port['ME1 INV2'] - all_data_port['RF']\n",
    "\n",
    "print(all_data_port.tail())"
   ]
  },
  {
   "cell_type": "code",
   "execution_count": 206,
   "metadata": {},
   "outputs": [
    {
     "data": {
      "text/html": [
       "<table class=\"simpletable\">\n",
       "<caption>OLS Regression Results</caption>\n",
       "<tr>\n",
       "  <th>Dep. Variable:</th>     <td>port_excess_ff</td>  <th>  R-squared:         </th> <td>   0.761</td> \n",
       "</tr>\n",
       "<tr>\n",
       "  <th>Model:</th>                   <td>OLS</td>       <th>  Adj. R-squared:    </th> <td>   0.757</td> \n",
       "</tr>\n",
       "<tr>\n",
       "  <th>Method:</th>             <td>Least Squares</td>  <th>  F-statistic:       </th> <td>   223.2</td> \n",
       "</tr>\n",
       "<tr>\n",
       "  <th>Date:</th>             <td>Wed, 13 May 2020</td> <th>  Prob (F-statistic):</th> <td>1.14e-106</td>\n",
       "</tr>\n",
       "<tr>\n",
       "  <th>Time:</th>                 <td>06:52:24</td>     <th>  Log-Likelihood:    </th> <td>  884.76</td> \n",
       "</tr>\n",
       "<tr>\n",
       "  <th>No. Observations:</th>      <td>   357</td>      <th>  AIC:               </th> <td>  -1758.</td> \n",
       "</tr>\n",
       "<tr>\n",
       "  <th>Df Residuals:</th>          <td>   351</td>      <th>  BIC:               </th> <td>  -1734.</td> \n",
       "</tr>\n",
       "<tr>\n",
       "  <th>Df Model:</th>              <td>     5</td>      <th>                     </th>     <td> </td>    \n",
       "</tr>\n",
       "<tr>\n",
       "  <th>Covariance Type:</th>      <td>nonrobust</td>    <th>                     </th>     <td> </td>    \n",
       "</tr>\n",
       "</table>\n",
       "<table class=\"simpletable\">\n",
       "<tr>\n",
       "       <td></td>         <th>coef</th>     <th>std err</th>      <th>t</th>      <th>P>|t|</th>  <th>[0.025</th>    <th>0.975]</th>  \n",
       "</tr>\n",
       "<tr>\n",
       "  <th>Intercept</th>  <td>    0.0005</td> <td>    0.001</td> <td>    0.418</td> <td> 0.676</td> <td>   -0.002</td> <td>    0.003</td>\n",
       "</tr>\n",
       "<tr>\n",
       "  <th>mkt_excess</th> <td>    0.7518</td> <td>    0.031</td> <td>   24.601</td> <td> 0.000</td> <td>    0.692</td> <td>    0.812</td>\n",
       "</tr>\n",
       "<tr>\n",
       "  <th>SMB</th>        <td>    0.3761</td> <td>    0.040</td> <td>    9.399</td> <td> 0.000</td> <td>    0.297</td> <td>    0.455</td>\n",
       "</tr>\n",
       "<tr>\n",
       "  <th>HML</th>        <td>    0.1686</td> <td>    0.050</td> <td>    3.359</td> <td> 0.001</td> <td>    0.070</td> <td>    0.267</td>\n",
       "</tr>\n",
       "<tr>\n",
       "  <th>RMW</th>        <td>    0.0017</td> <td>    0.055</td> <td>    0.030</td> <td> 0.976</td> <td>   -0.106</td> <td>    0.109</td>\n",
       "</tr>\n",
       "<tr>\n",
       "  <th>CMA</th>        <td>    0.0812</td> <td>    0.075</td> <td>    1.084</td> <td> 0.279</td> <td>   -0.066</td> <td>    0.228</td>\n",
       "</tr>\n",
       "</table>\n",
       "<table class=\"simpletable\">\n",
       "<tr>\n",
       "  <th>Omnibus:</th>       <td> 7.426</td> <th>  Durbin-Watson:     </th> <td>   1.705</td>\n",
       "</tr>\n",
       "<tr>\n",
       "  <th>Prob(Omnibus):</th> <td> 0.024</td> <th>  Jarque-Bera (JB):  </th> <td>  11.452</td>\n",
       "</tr>\n",
       "<tr>\n",
       "  <th>Skew:</th>          <td> 0.076</td> <th>  Prob(JB):          </th> <td> 0.00326</td>\n",
       "</tr>\n",
       "<tr>\n",
       "  <th>Kurtosis:</th>      <td> 3.864</td> <th>  Cond. No.          </th> <td>    79.8</td>\n",
       "</tr>\n",
       "</table><br/><br/>Warnings:<br/>[1] Standard Errors assume that the covariance matrix of the errors is correctly specified."
      ],
      "text/plain": [
       "<class 'statsmodels.iolib.summary.Summary'>\n",
       "\"\"\"\n",
       "                            OLS Regression Results                            \n",
       "==============================================================================\n",
       "Dep. Variable:         port_excess_ff   R-squared:                       0.761\n",
       "Model:                            OLS   Adj. R-squared:                  0.757\n",
       "Method:                 Least Squares   F-statistic:                     223.2\n",
       "Date:                Wed, 13 May 2020   Prob (F-statistic):          1.14e-106\n",
       "Time:                        06:52:24   Log-Likelihood:                 884.76\n",
       "No. Observations:                 357   AIC:                            -1758.\n",
       "Df Residuals:                     351   BIC:                            -1734.\n",
       "Df Model:                           5                                         \n",
       "Covariance Type:            nonrobust                                         \n",
       "==============================================================================\n",
       "                 coef    std err          t      P>|t|      [0.025      0.975]\n",
       "------------------------------------------------------------------------------\n",
       "Intercept      0.0005      0.001      0.418      0.676      -0.002       0.003\n",
       "mkt_excess     0.7518      0.031     24.601      0.000       0.692       0.812\n",
       "SMB            0.3761      0.040      9.399      0.000       0.297       0.455\n",
       "HML            0.1686      0.050      3.359      0.001       0.070       0.267\n",
       "RMW            0.0017      0.055      0.030      0.976      -0.106       0.109\n",
       "CMA            0.0812      0.075      1.084      0.279      -0.066       0.228\n",
       "==============================================================================\n",
       "Omnibus:                        7.426   Durbin-Watson:                   1.705\n",
       "Prob(Omnibus):                  0.024   Jarque-Bera (JB):               11.452\n",
       "Skew:                           0.076   Prob(JB):                      0.00326\n",
       "Kurtosis:                       3.864   Cond. No.                         79.8\n",
       "==============================================================================\n",
       "\n",
       "Warnings:\n",
       "[1] Standard Errors assume that the covariance matrix of the errors is correctly specified.\n",
       "\"\"\""
      ]
     },
     "execution_count": 206,
     "metadata": {},
     "output_type": "execute_result"
    }
   ],
   "source": [
    "me1_ff = sm.formula.ols(formula = 'port_excess_ff~mkt_excess +SMB+HML+RMW+CMA',data=all_data_port).fit()\n",
    "me1_ff.summary()\n"
   ]
  },
  {
   "cell_type": "code",
   "execution_count": 211,
   "metadata": {},
   "outputs": [
    {
     "name": "stdout",
     "output_type": "stream",
     "text": [
      "            SMALL LoINV  ME1 INV2  SMALL HiINV  BIG LoINV  ME2 INV2  \\\n",
      "2019-11-30       0.0225    0.0248       0.0368     0.0257    0.0270   \n",
      "2019-12-31       0.0478    0.0374       0.0486     0.0366    0.0281   \n",
      "2020-01-31      -0.0405   -0.0401      -0.0315    -0.0196   -0.0090   \n",
      "2020-02-29      -0.1028   -0.0972      -0.0925    -0.0932   -0.0827   \n",
      "2020-03-31      -0.1933   -0.1652      -0.1888    -0.1343   -0.1358   \n",
      "\n",
      "            BIG HiINV  mkt_excess     SMB     HML     RMW     CMA      RF  \\\n",
      "2019-11-30     0.0351      0.0387  0.0050 -0.0186 -0.0150 -0.0129  0.0012   \n",
      "2019-12-31     0.0262      0.0277  0.0096  0.0183  0.0021  0.0131  0.0014   \n",
      "2020-01-31     0.0102     -0.0011 -0.0440 -0.0627 -0.0123 -0.0234  0.0013   \n",
      "2020-02-29    -0.0695     -0.0813 -0.0007 -0.0401 -0.0164 -0.0253  0.0012   \n",
      "2020-03-31    -0.1217     -0.1339 -0.0843 -0.1411 -0.0132  0.0126  0.0012   \n",
      "\n",
      "            port_excess_ff  \n",
      "2019-11-30          0.0213  \n",
      "2019-12-31          0.0464  \n",
      "2020-01-31         -0.0418  \n",
      "2020-02-29         -0.1040  \n",
      "2020-03-31         -0.1945  \n"
     ]
    }
   ],
   "source": [
    "# Merging 6 PORTFOLIO DATA WITH FAMA FRENCH\n",
    "all_data_port = pd.merge(pd.DataFrame(ff_port_data),ff_data, how = 'inner', left_index= True, right_index= True)\n",
    "# Rename the columns\n",
    "all_data_port.rename(columns={\"Mkt-RF\":\"mkt_excess\"}, inplace=True)\n",
    "# Calculate the excess returns\n",
    "\n",
    "all_data_port['port_excess_ff'] = all_data_port['SMALL LoINV'] - all_data_port['RF']\n",
    "\n",
    "print(all_data_port.tail())\n",
    "\n"
   ]
  },
  {
   "cell_type": "code",
   "execution_count": 213,
   "metadata": {},
   "outputs": [
    {
     "data": {
      "text/html": [
       "<table class=\"simpletable\">\n",
       "<caption>OLS Regression Results</caption>\n",
       "<tr>\n",
       "  <th>Dep. Variable:</th>     <td>port_excess_ff</td>  <th>  R-squared:         </th> <td>   0.757</td> \n",
       "</tr>\n",
       "<tr>\n",
       "  <th>Model:</th>                   <td>OLS</td>       <th>  Adj. R-squared:    </th> <td>   0.754</td> \n",
       "</tr>\n",
       "<tr>\n",
       "  <th>Method:</th>             <td>Least Squares</td>  <th>  F-statistic:       </th> <td>   219.3</td> \n",
       "</tr>\n",
       "<tr>\n",
       "  <th>Date:</th>             <td>Wed, 13 May 2020</td> <th>  Prob (F-statistic):</th> <td>1.24e-105</td>\n",
       "</tr>\n",
       "<tr>\n",
       "  <th>Time:</th>                 <td>06:58:21</td>     <th>  Log-Likelihood:    </th> <td>  842.73</td> \n",
       "</tr>\n",
       "<tr>\n",
       "  <th>No. Observations:</th>      <td>   357</td>      <th>  AIC:               </th> <td>  -1673.</td> \n",
       "</tr>\n",
       "<tr>\n",
       "  <th>Df Residuals:</th>          <td>   351</td>      <th>  BIC:               </th> <td>  -1650.</td> \n",
       "</tr>\n",
       "<tr>\n",
       "  <th>Df Model:</th>              <td>     5</td>      <th>                     </th>     <td> </td>    \n",
       "</tr>\n",
       "<tr>\n",
       "  <th>Covariance Type:</th>      <td>nonrobust</td>    <th>                     </th>     <td> </td>    \n",
       "</tr>\n",
       "</table>\n",
       "<table class=\"simpletable\">\n",
       "<tr>\n",
       "       <td></td>         <th>coef</th>     <th>std err</th>      <th>t</th>      <th>P>|t|</th>  <th>[0.025</th>    <th>0.975]</th>  \n",
       "</tr>\n",
       "<tr>\n",
       "  <th>Intercept</th>  <td>-7.687e-05</td> <td>    0.001</td> <td>   -0.060</td> <td> 0.952</td> <td>   -0.003</td> <td>    0.002</td>\n",
       "</tr>\n",
       "<tr>\n",
       "  <th>mkt_excess</th> <td>    0.8002</td> <td>    0.034</td> <td>   23.275</td> <td> 0.000</td> <td>    0.733</td> <td>    0.868</td>\n",
       "</tr>\n",
       "<tr>\n",
       "  <th>SMB</th>        <td>    0.4432</td> <td>    0.045</td> <td>    9.845</td> <td> 0.000</td> <td>    0.355</td> <td>    0.532</td>\n",
       "</tr>\n",
       "<tr>\n",
       "  <th>HML</th>        <td>    0.1156</td> <td>    0.056</td> <td>    2.047</td> <td> 0.041</td> <td>    0.005</td> <td>    0.227</td>\n",
       "</tr>\n",
       "<tr>\n",
       "  <th>RMW</th>        <td>   -0.1560</td> <td>    0.061</td> <td>   -2.543</td> <td> 0.011</td> <td>   -0.277</td> <td>   -0.035</td>\n",
       "</tr>\n",
       "<tr>\n",
       "  <th>CMA</th>        <td>    0.2939</td> <td>    0.084</td> <td>    3.488</td> <td> 0.001</td> <td>    0.128</td> <td>    0.460</td>\n",
       "</tr>\n",
       "</table>\n",
       "<table class=\"simpletable\">\n",
       "<tr>\n",
       "  <th>Omnibus:</th>       <td> 3.125</td> <th>  Durbin-Watson:     </th> <td>   1.725</td>\n",
       "</tr>\n",
       "<tr>\n",
       "  <th>Prob(Omnibus):</th> <td> 0.210</td> <th>  Jarque-Bera (JB):  </th> <td>   3.255</td>\n",
       "</tr>\n",
       "<tr>\n",
       "  <th>Skew:</th>          <td> 0.095</td> <th>  Prob(JB):          </th> <td>   0.196</td>\n",
       "</tr>\n",
       "<tr>\n",
       "  <th>Kurtosis:</th>      <td> 3.427</td> <th>  Cond. No.          </th> <td>    79.8</td>\n",
       "</tr>\n",
       "</table><br/><br/>Warnings:<br/>[1] Standard Errors assume that the covariance matrix of the errors is correctly specified."
      ],
      "text/plain": [
       "<class 'statsmodels.iolib.summary.Summary'>\n",
       "\"\"\"\n",
       "                            OLS Regression Results                            \n",
       "==============================================================================\n",
       "Dep. Variable:         port_excess_ff   R-squared:                       0.757\n",
       "Model:                            OLS   Adj. R-squared:                  0.754\n",
       "Method:                 Least Squares   F-statistic:                     219.3\n",
       "Date:                Wed, 13 May 2020   Prob (F-statistic):          1.24e-105\n",
       "Time:                        06:58:21   Log-Likelihood:                 842.73\n",
       "No. Observations:                 357   AIC:                            -1673.\n",
       "Df Residuals:                     351   BIC:                            -1650.\n",
       "Df Model:                           5                                         \n",
       "Covariance Type:            nonrobust                                         \n",
       "==============================================================================\n",
       "                 coef    std err          t      P>|t|      [0.025      0.975]\n",
       "------------------------------------------------------------------------------\n",
       "Intercept  -7.687e-05      0.001     -0.060      0.952      -0.003       0.002\n",
       "mkt_excess     0.8002      0.034     23.275      0.000       0.733       0.868\n",
       "SMB            0.4432      0.045      9.845      0.000       0.355       0.532\n",
       "HML            0.1156      0.056      2.047      0.041       0.005       0.227\n",
       "RMW           -0.1560      0.061     -2.543      0.011      -0.277      -0.035\n",
       "CMA            0.2939      0.084      3.488      0.001       0.128       0.460\n",
       "==============================================================================\n",
       "Omnibus:                        3.125   Durbin-Watson:                   1.725\n",
       "Prob(Omnibus):                  0.210   Jarque-Bera (JB):                3.255\n",
       "Skew:                           0.095   Prob(JB):                        0.196\n",
       "Kurtosis:                       3.427   Cond. No.                         79.8\n",
       "==============================================================================\n",
       "\n",
       "Warnings:\n",
       "[1] Standard Errors assume that the covariance matrix of the errors is correctly specified.\n",
       "\"\"\""
      ]
     },
     "execution_count": 213,
     "metadata": {},
     "output_type": "execute_result"
    }
   ],
   "source": [
    "low_small_ff = sm.formula.ols(formula = 'port_excess_ff~mkt_excess +SMB+HML+RMW+CMA',data=all_data_port).fit()\n",
    "low_small_ff.summary()"
   ]
  },
  {
   "cell_type": "code",
   "execution_count": 214,
   "metadata": {},
   "outputs": [
    {
     "name": "stdout",
     "output_type": "stream",
     "text": [
      "            SMALL LoINV  ME1 INV2  SMALL HiINV  BIG LoINV  ME2 INV2  \\\n",
      "2019-11-30       0.0225    0.0248       0.0368     0.0257    0.0270   \n",
      "2019-12-31       0.0478    0.0374       0.0486     0.0366    0.0281   \n",
      "2020-01-31      -0.0405   -0.0401      -0.0315    -0.0196   -0.0090   \n",
      "2020-02-29      -0.1028   -0.0972      -0.0925    -0.0932   -0.0827   \n",
      "2020-03-31      -0.1933   -0.1652      -0.1888    -0.1343   -0.1358   \n",
      "\n",
      "            BIG HiINV  mkt_excess     SMB     HML     RMW     CMA      RF  \\\n",
      "2019-11-30     0.0351      0.0387  0.0050 -0.0186 -0.0150 -0.0129  0.0012   \n",
      "2019-12-31     0.0262      0.0277  0.0096  0.0183  0.0021  0.0131  0.0014   \n",
      "2020-01-31     0.0102     -0.0011 -0.0440 -0.0627 -0.0123 -0.0234  0.0013   \n",
      "2020-02-29    -0.0695     -0.0813 -0.0007 -0.0401 -0.0164 -0.0253  0.0012   \n",
      "2020-03-31    -0.1217     -0.1339 -0.0843 -0.1411 -0.0132  0.0126  0.0012   \n",
      "\n",
      "            port_excess_ff  \n",
      "2019-11-30          0.0356  \n",
      "2019-12-31          0.0472  \n",
      "2020-01-31         -0.0328  \n",
      "2020-02-29         -0.0937  \n",
      "2020-03-31         -0.1900  \n"
     ]
    },
    {
     "data": {
      "text/html": [
       "<table class=\"simpletable\">\n",
       "<caption>OLS Regression Results</caption>\n",
       "<tr>\n",
       "  <th>Dep. Variable:</th>     <td>port_excess_ff</td>  <th>  R-squared:         </th> <td>   0.814</td> \n",
       "</tr>\n",
       "<tr>\n",
       "  <th>Model:</th>                   <td>OLS</td>       <th>  Adj. R-squared:    </th> <td>   0.811</td> \n",
       "</tr>\n",
       "<tr>\n",
       "  <th>Method:</th>             <td>Least Squares</td>  <th>  F-statistic:       </th> <td>   307.2</td> \n",
       "</tr>\n",
       "<tr>\n",
       "  <th>Date:</th>             <td>Wed, 13 May 2020</td> <th>  Prob (F-statistic):</th> <td>8.33e-126</td>\n",
       "</tr>\n",
       "<tr>\n",
       "  <th>Time:</th>                 <td>06:59:21</td>     <th>  Log-Likelihood:    </th> <td>  847.02</td> \n",
       "</tr>\n",
       "<tr>\n",
       "  <th>No. Observations:</th>      <td>   357</td>      <th>  AIC:               </th> <td>  -1682.</td> \n",
       "</tr>\n",
       "<tr>\n",
       "  <th>Df Residuals:</th>          <td>   351</td>      <th>  BIC:               </th> <td>  -1659.</td> \n",
       "</tr>\n",
       "<tr>\n",
       "  <th>Df Model:</th>              <td>     5</td>      <th>                     </th>     <td> </td>    \n",
       "</tr>\n",
       "<tr>\n",
       "  <th>Covariance Type:</th>      <td>nonrobust</td>    <th>                     </th>     <td> </td>    \n",
       "</tr>\n",
       "</table>\n",
       "<table class=\"simpletable\">\n",
       "<tr>\n",
       "       <td></td>         <th>coef</th>     <th>std err</th>      <th>t</th>      <th>P>|t|</th>  <th>[0.025</th>    <th>0.975]</th>  \n",
       "</tr>\n",
       "<tr>\n",
       "  <th>Intercept</th>  <td>   -0.0021</td> <td>    0.001</td> <td>   -1.640</td> <td> 0.102</td> <td>   -0.005</td> <td>    0.000</td>\n",
       "</tr>\n",
       "<tr>\n",
       "  <th>mkt_excess</th> <td>    0.8638</td> <td>    0.034</td> <td>   25.428</td> <td> 0.000</td> <td>    0.797</td> <td>    0.931</td>\n",
       "</tr>\n",
       "<tr>\n",
       "  <th>SMB</th>        <td>    0.4395</td> <td>    0.044</td> <td>    9.881</td> <td> 0.000</td> <td>    0.352</td> <td>    0.527</td>\n",
       "</tr>\n",
       "<tr>\n",
       "  <th>HML</th>        <td>    0.0604</td> <td>    0.056</td> <td>    1.082</td> <td> 0.280</td> <td>   -0.049</td> <td>    0.170</td>\n",
       "</tr>\n",
       "<tr>\n",
       "  <th>RMW</th>        <td>   -0.2747</td> <td>    0.061</td> <td>   -4.531</td> <td> 0.000</td> <td>   -0.394</td> <td>   -0.155</td>\n",
       "</tr>\n",
       "<tr>\n",
       "  <th>CMA</th>        <td>   -0.1654</td> <td>    0.083</td> <td>   -1.986</td> <td> 0.048</td> <td>   -0.329</td> <td>   -0.002</td>\n",
       "</tr>\n",
       "</table>\n",
       "<table class=\"simpletable\">\n",
       "<tr>\n",
       "  <th>Omnibus:</th>       <td>13.569</td> <th>  Durbin-Watson:     </th> <td>   1.711</td>\n",
       "</tr>\n",
       "<tr>\n",
       "  <th>Prob(Omnibus):</th> <td> 0.001</td> <th>  Jarque-Bera (JB):  </th> <td>  28.076</td>\n",
       "</tr>\n",
       "<tr>\n",
       "  <th>Skew:</th>          <td>-0.121</td> <th>  Prob(JB):          </th> <td>8.01e-07</td>\n",
       "</tr>\n",
       "<tr>\n",
       "  <th>Kurtosis:</th>      <td> 4.352</td> <th>  Cond. No.          </th> <td>    79.8</td>\n",
       "</tr>\n",
       "</table><br/><br/>Warnings:<br/>[1] Standard Errors assume that the covariance matrix of the errors is correctly specified."
      ],
      "text/plain": [
       "<class 'statsmodels.iolib.summary.Summary'>\n",
       "\"\"\"\n",
       "                            OLS Regression Results                            \n",
       "==============================================================================\n",
       "Dep. Variable:         port_excess_ff   R-squared:                       0.814\n",
       "Model:                            OLS   Adj. R-squared:                  0.811\n",
       "Method:                 Least Squares   F-statistic:                     307.2\n",
       "Date:                Wed, 13 May 2020   Prob (F-statistic):          8.33e-126\n",
       "Time:                        06:59:21   Log-Likelihood:                 847.02\n",
       "No. Observations:                 357   AIC:                            -1682.\n",
       "Df Residuals:                     351   BIC:                            -1659.\n",
       "Df Model:                           5                                         \n",
       "Covariance Type:            nonrobust                                         \n",
       "==============================================================================\n",
       "                 coef    std err          t      P>|t|      [0.025      0.975]\n",
       "------------------------------------------------------------------------------\n",
       "Intercept     -0.0021      0.001     -1.640      0.102      -0.005       0.000\n",
       "mkt_excess     0.8638      0.034     25.428      0.000       0.797       0.931\n",
       "SMB            0.4395      0.044      9.881      0.000       0.352       0.527\n",
       "HML            0.0604      0.056      1.082      0.280      -0.049       0.170\n",
       "RMW           -0.2747      0.061     -4.531      0.000      -0.394      -0.155\n",
       "CMA           -0.1654      0.083     -1.986      0.048      -0.329      -0.002\n",
       "==============================================================================\n",
       "Omnibus:                       13.569   Durbin-Watson:                   1.711\n",
       "Prob(Omnibus):                  0.001   Jarque-Bera (JB):               28.076\n",
       "Skew:                          -0.121   Prob(JB):                     8.01e-07\n",
       "Kurtosis:                       4.352   Cond. No.                         79.8\n",
       "==============================================================================\n",
       "\n",
       "Warnings:\n",
       "[1] Standard Errors assume that the covariance matrix of the errors is correctly specified.\n",
       "\"\"\""
      ]
     },
     "execution_count": 214,
     "metadata": {},
     "output_type": "execute_result"
    }
   ],
   "source": [
    "all_data_port['port_excess_ff'] = all_data_port['SMALL HiINV'] - all_data_port['RF']\n",
    "\n",
    "print(all_data_port.tail())\n",
    "hi_small_ff = sm.formula.ols(formula = 'port_excess_ff~mkt_excess +SMB+HML+RMW+CMA',data=all_data_port).fit()\n",
    "hi_small_ff.summary()"
   ]
  },
  {
   "cell_type": "code",
   "execution_count": 215,
   "metadata": {},
   "outputs": [
    {
     "name": "stdout",
     "output_type": "stream",
     "text": [
      "            SMALL LoINV  ME1 INV2  SMALL HiINV  BIG LoINV  ME2 INV2  \\\n",
      "2019-11-30       0.0225    0.0248       0.0368     0.0257    0.0270   \n",
      "2019-12-31       0.0478    0.0374       0.0486     0.0366    0.0281   \n",
      "2020-01-31      -0.0405   -0.0401      -0.0315    -0.0196   -0.0090   \n",
      "2020-02-29      -0.1028   -0.0972      -0.0925    -0.0932   -0.0827   \n",
      "2020-03-31      -0.1933   -0.1652      -0.1888    -0.1343   -0.1358   \n",
      "\n",
      "            BIG HiINV  mkt_excess     SMB     HML     RMW     CMA      RF  \\\n",
      "2019-11-30     0.0351      0.0387  0.0050 -0.0186 -0.0150 -0.0129  0.0012   \n",
      "2019-12-31     0.0262      0.0277  0.0096  0.0183  0.0021  0.0131  0.0014   \n",
      "2020-01-31     0.0102     -0.0011 -0.0440 -0.0627 -0.0123 -0.0234  0.0013   \n",
      "2020-02-29    -0.0695     -0.0813 -0.0007 -0.0401 -0.0164 -0.0253  0.0012   \n",
      "2020-03-31    -0.1217     -0.1339 -0.0843 -0.1411 -0.0132  0.0126  0.0012   \n",
      "\n",
      "            port_excess_ff  \n",
      "2019-11-30          0.0245  \n",
      "2019-12-31          0.0352  \n",
      "2020-01-31         -0.0209  \n",
      "2020-02-29         -0.0944  \n",
      "2020-03-31         -0.1355  \n"
     ]
    },
    {
     "data": {
      "text/html": [
       "<table class=\"simpletable\">\n",
       "<caption>OLS Regression Results</caption>\n",
       "<tr>\n",
       "  <th>Dep. Variable:</th>     <td>port_excess_ff</td>  <th>  R-squared:         </th> <td>   0.784</td> \n",
       "</tr>\n",
       "<tr>\n",
       "  <th>Model:</th>                   <td>OLS</td>       <th>  Adj. R-squared:    </th> <td>   0.781</td> \n",
       "</tr>\n",
       "<tr>\n",
       "  <th>Method:</th>             <td>Least Squares</td>  <th>  F-statistic:       </th> <td>   255.1</td> \n",
       "</tr>\n",
       "<tr>\n",
       "  <th>Date:</th>             <td>Wed, 13 May 2020</td> <th>  Prob (F-statistic):</th> <td>1.67e-114</td>\n",
       "</tr>\n",
       "<tr>\n",
       "  <th>Time:</th>                 <td>07:00:41</td>     <th>  Log-Likelihood:    </th> <td>  903.24</td> \n",
       "</tr>\n",
       "<tr>\n",
       "  <th>No. Observations:</th>      <td>   357</td>      <th>  AIC:               </th> <td>  -1794.</td> \n",
       "</tr>\n",
       "<tr>\n",
       "  <th>Df Residuals:</th>          <td>   351</td>      <th>  BIC:               </th> <td>  -1771.</td> \n",
       "</tr>\n",
       "<tr>\n",
       "  <th>Df Model:</th>              <td>     5</td>      <th>                     </th>     <td> </td>    \n",
       "</tr>\n",
       "<tr>\n",
       "  <th>Covariance Type:</th>      <td>nonrobust</td>    <th>                     </th>     <td> </td>    \n",
       "</tr>\n",
       "</table>\n",
       "<table class=\"simpletable\">\n",
       "<tr>\n",
       "       <td></td>         <th>coef</th>     <th>std err</th>      <th>t</th>      <th>P>|t|</th>  <th>[0.025</th>    <th>0.975]</th>  \n",
       "</tr>\n",
       "<tr>\n",
       "  <th>Intercept</th>  <td>   -0.0017</td> <td>    0.001</td> <td>   -1.573</td> <td> 0.117</td> <td>   -0.004</td> <td>    0.000</td>\n",
       "</tr>\n",
       "<tr>\n",
       "  <th>mkt_excess</th> <td>    0.9156</td> <td>    0.029</td> <td>   31.553</td> <td> 0.000</td> <td>    0.859</td> <td>    0.973</td>\n",
       "</tr>\n",
       "<tr>\n",
       "  <th>SMB</th>        <td>   -0.0557</td> <td>    0.038</td> <td>   -1.466</td> <td> 0.143</td> <td>   -0.130</td> <td>    0.019</td>\n",
       "</tr>\n",
       "<tr>\n",
       "  <th>HML</th>        <td>    0.0412</td> <td>    0.048</td> <td>    0.865</td> <td> 0.388</td> <td>   -0.052</td> <td>    0.135</td>\n",
       "</tr>\n",
       "<tr>\n",
       "  <th>RMW</th>        <td>    0.0075</td> <td>    0.052</td> <td>    0.145</td> <td> 0.885</td> <td>   -0.094</td> <td>    0.109</td>\n",
       "</tr>\n",
       "<tr>\n",
       "  <th>CMA</th>        <td>    0.3806</td> <td>    0.071</td> <td>    5.352</td> <td> 0.000</td> <td>    0.241</td> <td>    0.520</td>\n",
       "</tr>\n",
       "</table>\n",
       "<table class=\"simpletable\">\n",
       "<tr>\n",
       "  <th>Omnibus:</th>       <td>88.005</td> <th>  Durbin-Watson:     </th> <td>   2.118</td> \n",
       "</tr>\n",
       "<tr>\n",
       "  <th>Prob(Omnibus):</th> <td> 0.000</td> <th>  Jarque-Bera (JB):  </th> <td> 689.881</td> \n",
       "</tr>\n",
       "<tr>\n",
       "  <th>Skew:</th>          <td> 0.782</td> <th>  Prob(JB):          </th> <td>1.56e-150</td>\n",
       "</tr>\n",
       "<tr>\n",
       "  <th>Kurtosis:</th>      <td> 9.628</td> <th>  Cond. No.          </th> <td>    79.8</td> \n",
       "</tr>\n",
       "</table><br/><br/>Warnings:<br/>[1] Standard Errors assume that the covariance matrix of the errors is correctly specified."
      ],
      "text/plain": [
       "<class 'statsmodels.iolib.summary.Summary'>\n",
       "\"\"\"\n",
       "                            OLS Regression Results                            \n",
       "==============================================================================\n",
       "Dep. Variable:         port_excess_ff   R-squared:                       0.784\n",
       "Model:                            OLS   Adj. R-squared:                  0.781\n",
       "Method:                 Least Squares   F-statistic:                     255.1\n",
       "Date:                Wed, 13 May 2020   Prob (F-statistic):          1.67e-114\n",
       "Time:                        07:00:41   Log-Likelihood:                 903.24\n",
       "No. Observations:                 357   AIC:                            -1794.\n",
       "Df Residuals:                     351   BIC:                            -1771.\n",
       "Df Model:                           5                                         \n",
       "Covariance Type:            nonrobust                                         \n",
       "==============================================================================\n",
       "                 coef    std err          t      P>|t|      [0.025      0.975]\n",
       "------------------------------------------------------------------------------\n",
       "Intercept     -0.0017      0.001     -1.573      0.117      -0.004       0.000\n",
       "mkt_excess     0.9156      0.029     31.553      0.000       0.859       0.973\n",
       "SMB           -0.0557      0.038     -1.466      0.143      -0.130       0.019\n",
       "HML            0.0412      0.048      0.865      0.388      -0.052       0.135\n",
       "RMW            0.0075      0.052      0.145      0.885      -0.094       0.109\n",
       "CMA            0.3806      0.071      5.352      0.000       0.241       0.520\n",
       "==============================================================================\n",
       "Omnibus:                       88.005   Durbin-Watson:                   2.118\n",
       "Prob(Omnibus):                  0.000   Jarque-Bera (JB):              689.881\n",
       "Skew:                           0.782   Prob(JB):                    1.56e-150\n",
       "Kurtosis:                       9.628   Cond. No.                         79.8\n",
       "==============================================================================\n",
       "\n",
       "Warnings:\n",
       "[1] Standard Errors assume that the covariance matrix of the errors is correctly specified.\n",
       "\"\"\""
      ]
     },
     "execution_count": 215,
     "metadata": {},
     "output_type": "execute_result"
    }
   ],
   "source": [
    "all_data_port['port_excess_ff'] = all_data_port['BIG LoINV'] - all_data_port['RF']\n",
    "\n",
    "print(all_data_port.tail())\n",
    "big_lo_ff = sm.formula.ols(formula = 'port_excess_ff~mkt_excess +SMB+HML+RMW+CMA',data=all_data_port).fit()\n",
    "big_lo_ff.summary()"
   ]
  },
  {
   "cell_type": "code",
   "execution_count": 216,
   "metadata": {},
   "outputs": [
    {
     "name": "stdout",
     "output_type": "stream",
     "text": [
      "            SMALL LoINV  ME1 INV2  SMALL HiINV  BIG LoINV  ME2 INV2  \\\n",
      "2019-11-30       0.0225    0.0248       0.0368     0.0257    0.0270   \n",
      "2019-12-31       0.0478    0.0374       0.0486     0.0366    0.0281   \n",
      "2020-01-31      -0.0405   -0.0401      -0.0315    -0.0196   -0.0090   \n",
      "2020-02-29      -0.1028   -0.0972      -0.0925    -0.0932   -0.0827   \n",
      "2020-03-31      -0.1933   -0.1652      -0.1888    -0.1343   -0.1358   \n",
      "\n",
      "            BIG HiINV  mkt_excess     SMB     HML     RMW     CMA      RF  \\\n",
      "2019-11-30     0.0351      0.0387  0.0050 -0.0186 -0.0150 -0.0129  0.0012   \n",
      "2019-12-31     0.0262      0.0277  0.0096  0.0183  0.0021  0.0131  0.0014   \n",
      "2020-01-31     0.0102     -0.0011 -0.0440 -0.0627 -0.0123 -0.0234  0.0013   \n",
      "2020-02-29    -0.0695     -0.0813 -0.0007 -0.0401 -0.0164 -0.0253  0.0012   \n",
      "2020-03-31    -0.1217     -0.1339 -0.0843 -0.1411 -0.0132  0.0126  0.0012   \n",
      "\n",
      "            port_excess_ff  \n",
      "2019-11-30          0.0258  \n",
      "2019-12-31          0.0267  \n",
      "2020-01-31         -0.0103  \n",
      "2020-02-29         -0.0839  \n",
      "2020-03-31         -0.1370  \n"
     ]
    },
    {
     "data": {
      "text/html": [
       "<table class=\"simpletable\">\n",
       "<caption>OLS Regression Results</caption>\n",
       "<tr>\n",
       "  <th>Dep. Variable:</th>     <td>port_excess_ff</td>  <th>  R-squared:         </th> <td>   0.836</td> \n",
       "</tr>\n",
       "<tr>\n",
       "  <th>Model:</th>                   <td>OLS</td>       <th>  Adj. R-squared:    </th> <td>   0.834</td> \n",
       "</tr>\n",
       "<tr>\n",
       "  <th>Method:</th>             <td>Least Squares</td>  <th>  F-statistic:       </th> <td>   358.8</td> \n",
       "</tr>\n",
       "<tr>\n",
       "  <th>Date:</th>             <td>Wed, 13 May 2020</td> <th>  Prob (F-statistic):</th> <td>1.49e-135</td>\n",
       "</tr>\n",
       "<tr>\n",
       "  <th>Time:</th>                 <td>07:01:44</td>     <th>  Log-Likelihood:    </th> <td>  947.90</td> \n",
       "</tr>\n",
       "<tr>\n",
       "  <th>No. Observations:</th>      <td>   357</td>      <th>  AIC:               </th> <td>  -1884.</td> \n",
       "</tr>\n",
       "<tr>\n",
       "  <th>Df Residuals:</th>          <td>   351</td>      <th>  BIC:               </th> <td>  -1861.</td> \n",
       "</tr>\n",
       "<tr>\n",
       "  <th>Df Model:</th>              <td>     5</td>      <th>                     </th>     <td> </td>    \n",
       "</tr>\n",
       "<tr>\n",
       "  <th>Covariance Type:</th>      <td>nonrobust</td>    <th>                     </th>     <td> </td>    \n",
       "</tr>\n",
       "</table>\n",
       "<table class=\"simpletable\">\n",
       "<tr>\n",
       "       <td></td>         <th>coef</th>     <th>std err</th>      <th>t</th>      <th>P>|t|</th>  <th>[0.025</th>    <th>0.975]</th>  \n",
       "</tr>\n",
       "<tr>\n",
       "  <th>Intercept</th>  <td>   -0.0017</td> <td>    0.001</td> <td>   -1.796</td> <td> 0.073</td> <td>   -0.004</td> <td>    0.000</td>\n",
       "</tr>\n",
       "<tr>\n",
       "  <th>mkt_excess</th> <td>    0.9305</td> <td>    0.026</td> <td>   36.338</td> <td> 0.000</td> <td>    0.880</td> <td>    0.981</td>\n",
       "</tr>\n",
       "<tr>\n",
       "  <th>SMB</th>        <td>   -0.0971</td> <td>    0.034</td> <td>   -2.896</td> <td> 0.004</td> <td>   -0.163</td> <td>   -0.031</td>\n",
       "</tr>\n",
       "<tr>\n",
       "  <th>HML</th>        <td>    0.0941</td> <td>    0.042</td> <td>    2.238</td> <td> 0.026</td> <td>    0.011</td> <td>    0.177</td>\n",
       "</tr>\n",
       "<tr>\n",
       "  <th>RMW</th>        <td>    0.0019</td> <td>    0.046</td> <td>    0.042</td> <td> 0.966</td> <td>   -0.088</td> <td>    0.092</td>\n",
       "</tr>\n",
       "<tr>\n",
       "  <th>CMA</th>        <td>    0.1029</td> <td>    0.063</td> <td>    1.640</td> <td> 0.102</td> <td>   -0.021</td> <td>    0.226</td>\n",
       "</tr>\n",
       "</table>\n",
       "<table class=\"simpletable\">\n",
       "<tr>\n",
       "  <th>Omnibus:</th>       <td>57.704</td> <th>  Durbin-Watson:     </th> <td>   2.130</td>\n",
       "</tr>\n",
       "<tr>\n",
       "  <th>Prob(Omnibus):</th> <td> 0.000</td> <th>  Jarque-Bera (JB):  </th> <td> 454.355</td>\n",
       "</tr>\n",
       "<tr>\n",
       "  <th>Skew:</th>          <td> 0.352</td> <th>  Prob(JB):          </th> <td>2.18e-99</td>\n",
       "</tr>\n",
       "<tr>\n",
       "  <th>Kurtosis:</th>      <td> 8.482</td> <th>  Cond. No.          </th> <td>    79.8</td>\n",
       "</tr>\n",
       "</table><br/><br/>Warnings:<br/>[1] Standard Errors assume that the covariance matrix of the errors is correctly specified."
      ],
      "text/plain": [
       "<class 'statsmodels.iolib.summary.Summary'>\n",
       "\"\"\"\n",
       "                            OLS Regression Results                            \n",
       "==============================================================================\n",
       "Dep. Variable:         port_excess_ff   R-squared:                       0.836\n",
       "Model:                            OLS   Adj. R-squared:                  0.834\n",
       "Method:                 Least Squares   F-statistic:                     358.8\n",
       "Date:                Wed, 13 May 2020   Prob (F-statistic):          1.49e-135\n",
       "Time:                        07:01:44   Log-Likelihood:                 947.90\n",
       "No. Observations:                 357   AIC:                            -1884.\n",
       "Df Residuals:                     351   BIC:                            -1861.\n",
       "Df Model:                           5                                         \n",
       "Covariance Type:            nonrobust                                         \n",
       "==============================================================================\n",
       "                 coef    std err          t      P>|t|      [0.025      0.975]\n",
       "------------------------------------------------------------------------------\n",
       "Intercept     -0.0017      0.001     -1.796      0.073      -0.004       0.000\n",
       "mkt_excess     0.9305      0.026     36.338      0.000       0.880       0.981\n",
       "SMB           -0.0971      0.034     -2.896      0.004      -0.163      -0.031\n",
       "HML            0.0941      0.042      2.238      0.026       0.011       0.177\n",
       "RMW            0.0019      0.046      0.042      0.966      -0.088       0.092\n",
       "CMA            0.1029      0.063      1.640      0.102      -0.021       0.226\n",
       "==============================================================================\n",
       "Omnibus:                       57.704   Durbin-Watson:                   2.130\n",
       "Prob(Omnibus):                  0.000   Jarque-Bera (JB):              454.355\n",
       "Skew:                           0.352   Prob(JB):                     2.18e-99\n",
       "Kurtosis:                       8.482   Cond. No.                         79.8\n",
       "==============================================================================\n",
       "\n",
       "Warnings:\n",
       "[1] Standard Errors assume that the covariance matrix of the errors is correctly specified.\n",
       "\"\"\""
      ]
     },
     "execution_count": 216,
     "metadata": {},
     "output_type": "execute_result"
    }
   ],
   "source": [
    "all_data_port['port_excess_ff'] = all_data_port['ME2 INV2'] - all_data_port['RF']\n",
    "\n",
    "print(all_data_port.tail())\n",
    "me2_ff = sm.formula.ols(formula = 'port_excess_ff~mkt_excess +SMB+HML+RMW+CMA',data=all_data_port).fit()\n",
    "me2_ff.summary()"
   ]
  },
  {
   "cell_type": "code",
   "execution_count": 217,
   "metadata": {},
   "outputs": [
    {
     "name": "stdout",
     "output_type": "stream",
     "text": [
      "            SMALL LoINV  ME1 INV2  SMALL HiINV  BIG LoINV  ME2 INV2  \\\n",
      "2019-11-30       0.0225    0.0248       0.0368     0.0257    0.0270   \n",
      "2019-12-31       0.0478    0.0374       0.0486     0.0366    0.0281   \n",
      "2020-01-31      -0.0405   -0.0401      -0.0315    -0.0196   -0.0090   \n",
      "2020-02-29      -0.1028   -0.0972      -0.0925    -0.0932   -0.0827   \n",
      "2020-03-31      -0.1933   -0.1652      -0.1888    -0.1343   -0.1358   \n",
      "\n",
      "            BIG HiINV  mkt_excess     SMB     HML     RMW     CMA      RF  \\\n",
      "2019-11-30     0.0351      0.0387  0.0050 -0.0186 -0.0150 -0.0129  0.0012   \n",
      "2019-12-31     0.0262      0.0277  0.0096  0.0183  0.0021  0.0131  0.0014   \n",
      "2020-01-31     0.0102     -0.0011 -0.0440 -0.0627 -0.0123 -0.0234  0.0013   \n",
      "2020-02-29    -0.0695     -0.0813 -0.0007 -0.0401 -0.0164 -0.0253  0.0012   \n",
      "2020-03-31    -0.1217     -0.1339 -0.0843 -0.1411 -0.0132  0.0126  0.0012   \n",
      "\n",
      "            port_excess_ff  \n",
      "2019-11-30          0.0339  \n",
      "2019-12-31          0.0248  \n",
      "2020-01-31          0.0089  \n",
      "2020-02-29         -0.0707  \n",
      "2020-03-31         -0.1229  \n"
     ]
    },
    {
     "data": {
      "text/html": [
       "<table class=\"simpletable\">\n",
       "<caption>OLS Regression Results</caption>\n",
       "<tr>\n",
       "  <th>Dep. Variable:</th>     <td>port_excess_ff</td>  <th>  R-squared:         </th> <td>   0.837</td> \n",
       "</tr>\n",
       "<tr>\n",
       "  <th>Model:</th>                   <td>OLS</td>       <th>  Adj. R-squared:    </th> <td>   0.835</td> \n",
       "</tr>\n",
       "<tr>\n",
       "  <th>Method:</th>             <td>Least Squares</td>  <th>  F-statistic:       </th> <td>   361.4</td> \n",
       "</tr>\n",
       "<tr>\n",
       "  <th>Date:</th>             <td>Wed, 13 May 2020</td> <th>  Prob (F-statistic):</th> <td>5.09e-136</td>\n",
       "</tr>\n",
       "<tr>\n",
       "  <th>Time:</th>                 <td>07:02:45</td>     <th>  Log-Likelihood:    </th> <td>  889.92</td> \n",
       "</tr>\n",
       "<tr>\n",
       "  <th>No. Observations:</th>      <td>   357</td>      <th>  AIC:               </th> <td>  -1768.</td> \n",
       "</tr>\n",
       "<tr>\n",
       "  <th>Df Residuals:</th>          <td>   351</td>      <th>  BIC:               </th> <td>  -1745.</td> \n",
       "</tr>\n",
       "<tr>\n",
       "  <th>Df Model:</th>              <td>     5</td>      <th>                     </th>     <td> </td>    \n",
       "</tr>\n",
       "<tr>\n",
       "  <th>Covariance Type:</th>      <td>nonrobust</td>    <th>                     </th>     <td> </td>    \n",
       "</tr>\n",
       "</table>\n",
       "<table class=\"simpletable\">\n",
       "<tr>\n",
       "       <td></td>         <th>coef</th>     <th>std err</th>      <th>t</th>      <th>P>|t|</th>  <th>[0.025</th>    <th>0.975]</th>  \n",
       "</tr>\n",
       "<tr>\n",
       "  <th>Intercept</th>  <td>   -0.0008</td> <td>    0.001</td> <td>   -0.672</td> <td> 0.502</td> <td>   -0.003</td> <td>    0.001</td>\n",
       "</tr>\n",
       "<tr>\n",
       "  <th>mkt_excess</th> <td>    0.9496</td> <td>    0.030</td> <td>   31.524</td> <td> 0.000</td> <td>    0.890</td> <td>    1.009</td>\n",
       "</tr>\n",
       "<tr>\n",
       "  <th>SMB</th>        <td>   -0.0619</td> <td>    0.039</td> <td>   -1.569</td> <td> 0.118</td> <td>   -0.139</td> <td>    0.016</td>\n",
       "</tr>\n",
       "<tr>\n",
       "  <th>HML</th>        <td>   -0.0540</td> <td>    0.049</td> <td>   -1.093</td> <td> 0.275</td> <td>   -0.151</td> <td>    0.043</td>\n",
       "</tr>\n",
       "<tr>\n",
       "  <th>RMW</th>        <td>   -0.1898</td> <td>    0.054</td> <td>   -3.532</td> <td> 0.000</td> <td>   -0.296</td> <td>   -0.084</td>\n",
       "</tr>\n",
       "<tr>\n",
       "  <th>CMA</th>        <td>   -0.2933</td> <td>    0.074</td> <td>   -3.973</td> <td> 0.000</td> <td>   -0.438</td> <td>   -0.148</td>\n",
       "</tr>\n",
       "</table>\n",
       "<table class=\"simpletable\">\n",
       "<tr>\n",
       "  <th>Omnibus:</th>       <td>58.134</td> <th>  Durbin-Watson:     </th> <td>   2.221</td> \n",
       "</tr>\n",
       "<tr>\n",
       "  <th>Prob(Omnibus):</th> <td> 0.000</td> <th>  Jarque-Bera (JB):  </th> <td> 665.967</td> \n",
       "</tr>\n",
       "<tr>\n",
       "  <th>Skew:</th>          <td>-0.005</td> <th>  Prob(JB):          </th> <td>2.44e-145</td>\n",
       "</tr>\n",
       "<tr>\n",
       "  <th>Kurtosis:</th>      <td> 9.691</td> <th>  Cond. No.          </th> <td>    79.8</td> \n",
       "</tr>\n",
       "</table><br/><br/>Warnings:<br/>[1] Standard Errors assume that the covariance matrix of the errors is correctly specified."
      ],
      "text/plain": [
       "<class 'statsmodels.iolib.summary.Summary'>\n",
       "\"\"\"\n",
       "                            OLS Regression Results                            \n",
       "==============================================================================\n",
       "Dep. Variable:         port_excess_ff   R-squared:                       0.837\n",
       "Model:                            OLS   Adj. R-squared:                  0.835\n",
       "Method:                 Least Squares   F-statistic:                     361.4\n",
       "Date:                Wed, 13 May 2020   Prob (F-statistic):          5.09e-136\n",
       "Time:                        07:02:45   Log-Likelihood:                 889.92\n",
       "No. Observations:                 357   AIC:                            -1768.\n",
       "Df Residuals:                     351   BIC:                            -1745.\n",
       "Df Model:                           5                                         \n",
       "Covariance Type:            nonrobust                                         \n",
       "==============================================================================\n",
       "                 coef    std err          t      P>|t|      [0.025      0.975]\n",
       "------------------------------------------------------------------------------\n",
       "Intercept     -0.0008      0.001     -0.672      0.502      -0.003       0.001\n",
       "mkt_excess     0.9496      0.030     31.524      0.000       0.890       1.009\n",
       "SMB           -0.0619      0.039     -1.569      0.118      -0.139       0.016\n",
       "HML           -0.0540      0.049     -1.093      0.275      -0.151       0.043\n",
       "RMW           -0.1898      0.054     -3.532      0.000      -0.296      -0.084\n",
       "CMA           -0.2933      0.074     -3.973      0.000      -0.438      -0.148\n",
       "==============================================================================\n",
       "Omnibus:                       58.134   Durbin-Watson:                   2.221\n",
       "Prob(Omnibus):                  0.000   Jarque-Bera (JB):              665.967\n",
       "Skew:                          -0.005   Prob(JB):                    2.44e-145\n",
       "Kurtosis:                       9.691   Cond. No.                         79.8\n",
       "==============================================================================\n",
       "\n",
       "Warnings:\n",
       "[1] Standard Errors assume that the covariance matrix of the errors is correctly specified.\n",
       "\"\"\""
      ]
     },
     "execution_count": 217,
     "metadata": {},
     "output_type": "execute_result"
    }
   ],
   "source": [
    "all_data_port['port_excess_ff'] = all_data_port['BIG HiINV'] - all_data_port['RF']\n",
    "\n",
    "print(all_data_port.tail())\n",
    "big_high_ff = sm.formula.ols(formula = 'port_excess_ff~mkt_excess +SMB+HML+RMW+CMA',data=all_data_port).fit()\n",
    "big_high_ff.summary()"
   ]
  },
  {
   "cell_type": "code",
   "execution_count": null,
   "metadata": {},
   "outputs": [],
   "source": []
  }
 ],
 "metadata": {
  "kernelspec": {
   "display_name": "Python 3",
   "language": "python",
   "name": "python3"
  },
  "language_info": {
   "codemirror_mode": {
    "name": "ipython",
    "version": 3
   },
   "file_extension": ".py",
   "mimetype": "text/x-python",
   "name": "python",
   "nbconvert_exporter": "python",
   "pygments_lexer": "ipython3",
   "version": "3.7.4"
  }
 },
 "nbformat": 4,
 "nbformat_minor": 2
}
